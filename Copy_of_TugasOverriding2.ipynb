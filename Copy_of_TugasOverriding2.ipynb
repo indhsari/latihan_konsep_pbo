{
  "nbformat": 4,
  "nbformat_minor": 0,
  "metadata": {
    "colab": {
      "provenance": [],
      "include_colab_link": true
    },
    "kernelspec": {
      "name": "python3",
      "display_name": "Python 3"
    },
    "language_info": {
      "name": "python"
    }
  },
  "cells": [
    {
      "cell_type": "markdown",
      "metadata": {
        "id": "view-in-github",
        "colab_type": "text"
      },
      "source": [
        "<a href=\"https://colab.research.google.com/github/indhsari/latihan_konsep_pbo/blob/main/Copy_of_TugasOverriding2.ipynb\" target=\"_parent\"><img src=\"https://colab.research.google.com/assets/colab-badge.svg\" alt=\"Open In Colab\"/></a>"
      ]
    },
    {
      "cell_type": "markdown",
      "source": [
        "Anda bekerja sebagai programmer di sebuah supermarket besar. Manajemen supermarket ingin Anda mengembangkan program Python untuk mengelola berbagai jenis produk yang mereka jual di toko mereka. Mereka memiliki kelas dasar **Produk** dengan atribut berikut:\n",
        "\n",
        "*   kode_barang (kode unik produk)\n",
        "*   nama (nama produk)\n",
        "*   harga (harga produk)\n",
        "\n",
        "Selain itu, mereka memiliki dua jenis produk spesifik: **ProdukMakanan** dan **ProdukElektronik**. Produk makanan memiliki atribut tambahan:\n",
        "\n",
        "*   tanggal_kadaluarsa (tanggal kadaluarsa makanan)\n",
        "\n",
        "Sementara Produk elektronik memiliki atribut tambahan:\n",
        "\n",
        "*   garansi (lama garansi dalam bulan)\n",
        "\n",
        "Manajemen supermarket ingin Anda membuat program Python yang memungkinkan mereka untuk mencetak informasi tentang setiap produk, termasuk kode barang, nama, harga, serta atribut tambahan yang sesuai (tanggal kadaluarsa atau lama garansi).\n",
        "\n",
        "Tugas Anda adalah:\n",
        "\n",
        "\n",
        "1.   Membuat kelas Produk dengan atribut kode_barang, nama, dan harga, serta metode deskripsi yang mencetak informasi tentang produk tersebut.\n",
        "2.   Membuat kelas ProdukMakanan yang mewarisi dari kelas Produk dan memiliki atribut tambahan tanggal_kadaluarsa, serta mengimplementasikan metode deskripsi untuk mencetak informasi tentang produk makanan.\n",
        "1.   Membuat kelas ProdukElektronik yang juga mewarisi dari kelas Produk dan memiliki atribut tambahan garansi, serta mengimplementasikan metode deskripsi untuk mencetak informasi tentang produk elektronik.\n",
        "\n",
        "Program Anda harus mendemonstrasikan penggunaan konsep **overriding** dalam Python dalam konteks produk di supermarket.\n",
        "\n",
        "Selamat mengerjakan!\n",
        "\n",
        "\n",
        "\n",
        "\n",
        "\n"
      ],
      "metadata": {
        "id": "Yo0ulCyP2WPG"
      }
    },
    {
      "cell_type": "code",
      "execution_count": 1,
      "metadata": {
        "id": "tG1-g1OW2KSu"
      },
      "outputs": [],
      "source": [
        "class Produk:\n",
        " def __init__(self, kode_barang, nama, harga):\n",
        "    self.kode_barang=kode_barang\n",
        "    self.nama=nama\n",
        "    self.harga=harga\n",
        "\n",
        " def deskripsi(self):\n",
        "    print(f\"kode barang: {self.kode_barang}\")\n",
        "    print(f\"nama: {self.nama}\")\n",
        "    print(f\"harga: {self.harga}\")"
      ]
    },
    {
      "cell_type": "code",
      "source": [
        "class ProdukMakanan(Produk):\n",
        "  def __init__(self, kode_barang, nama, harga, tanggal_kadaluarsa):\n",
        "    super().__init__(kode_barang, nama, harga)\n",
        "    self.tanggal_kadaluarsa=tanggal_kadaluarsa\n",
        "\n",
        "  def deskripsi(self):\n",
        "    super().deskripsi()\n",
        "  print(\"Tanggal kadaluarsa , self.Tanggal_kadaluarsa\")"
      ],
      "metadata": {
        "id": "oy32Lm4m39l0",
        "colab": {
          "base_uri": "https://localhost:8080/"
        },
        "outputId": "010e65d4-c2b9-4835-fab3-18e8af0a0709"
      },
      "execution_count": 2,
      "outputs": [
        {
          "output_type": "stream",
          "name": "stdout",
          "text": [
            "Tanggal kadaluarsa , self.Tanggal_kadaluarsa\n"
          ]
        }
      ]
    },
    {
      "cell_type": "code",
      "source": [
        "class ProdukElektronik(Produk):\n",
        "  def __init__(self, kode_barang, nama, harga, garansi):\n",
        "    super().__init__(kode_barang, nama, harga)\n",
        "    self.garansi=garansi\n",
        "\n",
        "  def deskripsi(self):\n",
        "    super().deskripsi()\n",
        "print(\"Garansi , self.garansi\")"
      ],
      "metadata": {
        "id": "wEgEGwxm4A1y",
        "colab": {
          "base_uri": "https://localhost:8080/"
        },
        "outputId": "68dbd94b-c91c-4711-f84c-2416933c654c"
      },
      "execution_count": 3,
      "outputs": [
        {
          "output_type": "stream",
          "name": "stdout",
          "text": [
            "Garansi , self.garansi\n"
          ]
        }
      ]
    },
    {
      "cell_type": "code",
      "source": [
        "produk1 = ProdukMakanan(116799, \"ayam krispy\" , 10000 , \"12 oktober 2023\")\n",
        "produk2 = ProdukElektronik(335677, \"handphone oppo\" , 1999999 , \"6tahun\")\n",
        "\n",
        "print(\"Deskripsi Produk Makanan:\")\n",
        "produk1.deskripsi()\n",
        "print(\"\")\n",
        "print(\"Deskripsi Produk Elektronik:\")\n",
        "produk2.deskripsi()"
      ],
      "metadata": {
        "id": "noeSP_dw4F4c",
        "colab": {
          "base_uri": "https://localhost:8080/"
        },
        "outputId": "4ce0144f-2caf-4899-c839-034a1cdc35e6"
      },
      "execution_count": 4,
      "outputs": [
        {
          "output_type": "stream",
          "name": "stdout",
          "text": [
            "Deskripsi Produk Makanan:\n",
            "kode barang: 116799\n",
            "nama: ayam krispy\n",
            "harga: 10000\n",
            "\n",
            "Deskripsi Produk Elektronik:\n",
            "kode barang: 335677\n",
            "nama: handphone oppo\n",
            "harga: 1999999\n"
          ]
        }
      ]
    }
  ]
}