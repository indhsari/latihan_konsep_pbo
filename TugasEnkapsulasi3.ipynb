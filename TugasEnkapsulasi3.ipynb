{
  "nbformat": 4,
  "nbformat_minor": 0,
  "metadata": {
    "colab": {
      "provenance": [],
      "include_colab_link": true
    },
    "kernelspec": {
      "name": "python3",
      "display_name": "Python 3"
    },
    "language_info": {
      "name": "python"
    }
  },
  "cells": [
    {
      "cell_type": "markdown",
      "metadata": {
        "id": "view-in-github",
        "colab_type": "text"
      },
      "source": [
        "<a href=\"https://colab.research.google.com/github/indhsari/latihan_konsep_pbo/blob/main/TugasEnkapsulasi3.ipynb\" target=\"_parent\"><img src=\"https://colab.research.google.com/assets/colab-badge.svg\" alt=\"Open In Colab\"/></a>"
      ]
    },
    {
      "cell_type": "code",
      "source": [
        "class RekeningBank:\n",
        "  def __init__(self, nama_pemilik, saldo):\n",
        "    self.nama_pemilik = nama_pemilik\n",
        "    self.saldo = saldo\n",
        "\n",
        "  def set_saldo(self, saldo):\n",
        "    self.saldo = saldo\n",
        "\n",
        "  def get_saldo(self):\n",
        "    return self.saldo\n",
        "\n",
        "  def set_nama_pemilik(self, nama_pemilik):\n",
        "    return self.nama_pemilik\n",
        "\n",
        "    # Desain class\n",
        "class RekeningBank:\n",
        "  def __init__ (self, nama_pemilik, saldo):\n",
        "    self.__nama_pemilik = nama_pemilik\n",
        "    self.__saldo = saldo\n",
        "\n",
        "  def get_nama_pemilik(self):\n",
        "    return self.__nama_pemilik\n",
        "\n",
        "  def set_nama_pemilik(self, nama_pemilik):\n",
        "    self.__nama_pemilik = nama_pemilik\n",
        "\n",
        "  def get_saldo(self):\n",
        "    return  self.__saldo\n",
        "\n",
        "  def set_saldo(self, saldo):\n",
        "    self.__saldo = saldo\n",
        "\n",
        "  def setor(self, total):\n",
        "    if total > 0:\n",
        "       self.__saldo += total\n",
        "       print('Total saldo sekarang:', self.__saldo)\n",
        "    else:\n",
        "       print(\"jumlah setor harus lebih dari 0\")\n",
        "\n",
        "  def tarik(self, total):\n",
        "    if total > 0 and total <= self.__saldo:\n",
        "       self.__saldo -= total\n",
        "       print('tarik', total)\n",
        "       print('total saldo sekarang:', self.__saldo)\n",
        "    else:\n",
        "       print(\"jumlah saldo tidak mencukupi\")\n",
        "\n"
      ],
      "metadata": {
        "id": "Pyj-mkyciVfk"
      },
      "execution_count": 5,
      "outputs": []
    },
    {
      "cell_type": "code",
      "source": [
        "#Program utama untuk mendemonstrasikan class RekeningBank\n",
        "#yang menunjukkan penggunaan semua fungsi yang ada\n",
        "# membuat objek\n",
        "rb = RekeningBank('Arif', 50000000)\n",
        "\n",
        "# mengakses nama pemilik dan saldo menggunakan fungsi\n",
        "print('Nama pemilik:',rb.get_nama_pemilik(), 'Saldo RekeningBank:', rb.get_saldo())\n",
        "\n",
        "# mengubah nama pemilik dan saldo menggunakan fungsi\n",
        "rb.set_nama_pemilik('Indah')\n",
        "rb.set_saldo('35000000')\n",
        "\n",
        "# mengakses nama pemilik dan saldo setelah diubah\n",
        "print('Nama pemilik:', rb.get_nama_pemilik(), 'Saldo RekeningBank:', rb.get_saldo())"
      ],
      "metadata": {
        "id": "aOwy6rfdSga2",
        "colab": {
          "base_uri": "https://localhost:8080/"
        },
        "outputId": "ff30e8e6-06ea-4f9a-a814-5589a14e4886"
      },
      "execution_count": 7,
      "outputs": [
        {
          "output_type": "stream",
          "name": "stdout",
          "text": [
            "Nama pemilik: Arif Saldo RekeningBank: 50000000\n",
            "Nama pemilik: Indah Saldo RekeningBank: 35000000\n"
          ]
        }
      ]
    },
    {
      "cell_type": "code",
      "source": [
        "#demo program utama\n",
        "rbn = RekeningBank(\"Indah\", 100000000)\n",
        "\n",
        "#mengakses atau menampilkan\n",
        "print(\"Rekening Bank sekarang:\")\n",
        "print(\"Nama pemilik:\" , rb.get_nama_pemilik())\n",
        "print(\"Saldo awal:\" , rb.get_saldo())\n",
        "\n",
        "#menyetor\n",
        "rbn.setor(1000000)\n",
        "rbn.setor(0)\n",
        "\n",
        "#menarik saldo\n",
        "rbn.tarik(2000000)\n",
        "rbn.tarik(200000000)\n",
        "\n",
        "#mengakses atau menampilkan Rekening akhir\n",
        "print(\"Rekening Bank sekarang:\")\n",
        "print(\"Nama pemilik:\", rbn.get_nama_pemilik())\n",
        "print(\"Saldo akhir:\", rbn.get_saldo())"
      ],
      "metadata": {
        "colab": {
          "base_uri": "https://localhost:8080/"
        },
        "id": "iLEYqGeSWTWZ",
        "outputId": "ebc33837-e809-44fd-9107-0d8306d48846"
      },
      "execution_count": 9,
      "outputs": [
        {
          "output_type": "stream",
          "name": "stdout",
          "text": [
            "Rekening Bank sekarang:\n",
            "Nama pemilik: Indah\n",
            "Saldo awal: 35000000\n",
            "Total saldo sekarang: 101000000\n",
            "jumlah setor harus lebih dari 0\n",
            "tarik 2000000\n",
            "total saldo sekarang: 99000000\n",
            "jumlah saldo tidak mencukupi\n",
            "Rekening Bank sekarang:\n",
            "Nama pemilik: Indah\n",
            "Saldo akhir: 99000000\n"
          ]
        }
      ]
    }
  ]
}