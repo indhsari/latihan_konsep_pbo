{
  "nbformat": 4,
  "nbformat_minor": 0,
  "metadata": {
    "colab": {
      "provenance": [],
      "include_colab_link": true
    },
    "kernelspec": {
      "name": "python3",
      "display_name": "Python 3"
    },
    "language_info": {
      "name": "python"
    }
  },
  "cells": [
    {
      "cell_type": "markdown",
      "metadata": {
        "id": "view-in-github",
        "colab_type": "text"
      },
      "source": [
        "<a href=\"https://colab.research.google.com/github/indhsari/latihan_konsep_pbo/blob/main/Copy_of_TugasOverriding.ipynb\" target=\"_parent\"><img src=\"https://colab.research.google.com/assets/colab-badge.svg\" alt=\"Open In Colab\"/></a>"
      ]
    },
    {
      "cell_type": "markdown",
      "source": [
        "Lengkapi kode program berikut ini, sehingga bisa menghasilkan output seperti berikut!\n",
        "```\n",
        "Pohon Kelapa tumbuh dengan tinggi 800\n",
        " --> dan daun menyirip\n",
        "Mawar tumbuh dengan tinggi 50\n",
        " --> dan berwarna merah\n",
        " ```\n",
        "\n"
      ],
      "metadata": {
        "id": "RljxHcHbJLfE"
      }
    },
    {
      "cell_type": "code",
      "execution_count": 1,
      "metadata": {
        "id": "lWZ-ESv159Iq"
      },
      "outputs": [],
      "source": [
        "class Tanaman:\n",
        "  def __init__(self, nama, tinggi):\n",
        "    # lengkapi kontruktor ini\n",
        "    self.nama=nama\n",
        "    self.tinggi=tinggi\n",
        "  def tumbuh(self):\n",
        "    print(self.nama,'tumbuh dengan tinggi', self.tinggi, 'cm')"
      ]
    },
    {
      "cell_type": "code",
      "source": [
        "class Pohon(Tanaman):\n",
        "  def __init__(self, nama, tinggi, jenis_daun):\n",
        "    # lengkapi kontruktor ini\n",
        "    super().__init__(nama,tinggi)\n",
        "    self.jenis_daun=jenis_daun\n",
        "\n",
        "  def tumbuh(self):\n",
        "    # panggil fungsi tumbuh dari induk\n",
        "    super().tumbuh()\n",
        "\n",
        "    print(' --> daun', self.jenis_daun)"
      ],
      "metadata": {
        "id": "xkteR9AOGKJH"
      },
      "execution_count": 2,
      "outputs": []
    },
    {
      "cell_type": "code",
      "source": [
        "class Bunga(Tanaman):\n",
        "  def __init__(self, nama, tinggi, warna):\n",
        "    # lengkapi kontruktor ini\n",
        "    super().__init__(warna,tinggi)\n",
        "    self.warna = warna\n",
        "  def tumbuh(self):\n",
        "    # panggil fungsi tumbuh dari induk\n",
        "    super().tumbuh()\n",
        "\n",
        "    print(' --> berwarna', self.warna)"
      ],
      "metadata": {
        "id": "ZJBeyb94GMEo"
      },
      "execution_count": 3,
      "outputs": []
    },
    {
      "cell_type": "code",
      "source": [
        "# Membuat objek-objek tanaman\n",
        "tanaman1 = Pohon(\"Pohon nangka\", 800, \"menyirip\")\n",
        "tanaman2 = Bunga(\"Mawar\", 50, \"merah\")\n",
        "\n",
        "# Memanggil metode tumbuh yang telah di-override\n",
        "tanaman1.tumbuh()\n",
        "tanaman2.tumbuh()"
      ],
      "metadata": {
        "id": "wl3IHLSkGOIT",
        "colab": {
          "base_uri": "https://localhost:8080/"
        },
        "outputId": "0f19338d-35d8-407d-db91-344fae481f62"
      },
      "execution_count": 4,
      "outputs": [
        {
          "output_type": "stream",
          "name": "stdout",
          "text": [
            "Pohon nangka tumbuh dengan tinggi 800 cm\n",
            " --> daun menyirip\n",
            "merah tumbuh dengan tinggi 50 cm\n",
            " --> berwarna merah\n"
          ]
        }
      ]
    }
  ]
}