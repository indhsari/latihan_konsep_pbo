{
  "nbformat": 4,
  "nbformat_minor": 0,
  "metadata": {
    "colab": {
      "provenance": [],
      "include_colab_link": true
    },
    "kernelspec": {
      "name": "python3",
      "display_name": "Python 3"
    },
    "language_info": {
      "name": "python"
    }
  },
  "cells": [
    {
      "cell_type": "markdown",
      "metadata": {
        "id": "view-in-github",
        "colab_type": "text"
      },
      "source": [
        "<a href=\"https://colab.research.google.com/github/indhsari/latihan_konsep_pbo/blob/main/TugasClass.ipynb\" target=\"_parent\"><img src=\"https://colab.research.google.com/assets/colab-badge.svg\" alt=\"Open In Colab\"/></a>"
      ]
    },
    {
      "cell_type": "markdown",
      "source": [
        "Lengkapilah class-class berikut ini."
      ],
      "metadata": {
        "id": "V6n6i25pQnla"
      }
    },
    {
      "cell_type": "markdown",
      "source": [
        "Class Senjata memiliki 2 atribut atribut nama dan poin serta fungsi tembak(). Fungsi tembak mencetak teks \"Dorr\". Dan class senjata ini memiliki konstruktor."
      ],
      "metadata": {
        "id": "DoZvmdSTSDPa"
      }
    },
    {
      "cell_type": "code",
      "source": [
        "class Senjata:\n",
        "  def __init__(self, nama, poin):\n",
        "    #dilengkapi"
      ],
      "metadata": {
        "id": "NYeV0w-FR6mf"
      },
      "execution_count": null,
      "outputs": []
    },
    {
      "cell_type": "markdown",
      "source": [
        "Class Player memiliki atribut id, nama, skor dan nyawa serta sebuah atribut bertipe objek **Senjata**. Tipe atribut silakan anda tentukan sendiri. Class Player memiliki perilaku mulai, move, set_skor dan get_skor. Class player wajib memiliki kontruktor. Fungsi move() menampilkan teks \"Bergerak\". Fungsi set_skor berfungsi untuk menambah skor dan fungsi get_skor mengembalikan nilai skor."
      ],
      "metadata": {
        "id": "LwRHn7m4SBaJ"
      }
    },
    {
      "cell_type": "code",
      "execution_count": null,
      "metadata": {
        "id": "JC6f_oE5Qhjt"
      },
      "outputs": [],
      "source": [
        "class Player:\n",
        "  def __init__(self, ,senjata):\n",
        "    #dilengkapi\n",
        "\n",
        "  def mulai(self):\n",
        "    print(f'Player {self.nama} dengan skor {self.skor}')\n",
        "    print(f'Memiliki senjata {self.senjata.nama} dengan poin {self.senjata.poin}')\n",
        "\n",
        "  def move(self):\n",
        "    #silakan dilengkapi\n",
        "\n",
        "  def set_skor(self, skor):\n",
        "    #silakan dilengkapi\n",
        "\n",
        "  def get_skor(self):\n",
        "    #dilengkapi"
      ]
    },
    {
      "cell_type": "markdown",
      "source": [
        "Terakhir cobalah kedua class tersebut dengan kode program berikut ini."
      ],
      "metadata": {
        "id": "miQK-cUqKAJe"
      }
    },
    {
      "cell_type": "code",
      "source": [
        "player1 = Player(\n",
        "    id = 1,\n",
        "    nama = 'Jojo',\n",
        "    skor = 0,\n",
        "    nyawa = 5\n",
        "    senjata = Senjata(nama='Pistol', poin = 10))\n",
        "player1.mulai()\n",
        "player1.move()\n",
        "player1.senjata.tembak()"
      ],
      "metadata": {
        "id": "b-sH4vg5KE1p"
      },
      "execution_count": null,
      "outputs": []
    }
  ]
}